{
 "cells": [
  {
   "cell_type": "code",
   "execution_count": 1,
   "id": "8a14faaf-ffa1-49b6-bc40-adf86fd43059",
   "metadata": {},
   "outputs": [],
   "source": [
    "import json\n",
    "import pandas as pd"
   ]
  },
  {
   "cell_type": "code",
   "execution_count": 2,
   "id": "ae43d950-fbff-490e-b0ec-627c757e226a",
   "metadata": {},
   "outputs": [],
   "source": [
    "df = pd.read_csv(\"data/games.csv\")"
   ]
  },
  {
   "cell_type": "code",
   "execution_count": 6,
   "id": "335e0ba8-9690-4a45-8bd9-1e232362ad52",
   "metadata": {},
   "outputs": [],
   "source": [
    "champ_data = json.load(open(\"data/champion_info.json\"))"
   ]
  },
  {
   "cell_type": "code",
   "execution_count": 8,
   "id": "bb6c7a8a-91ff-475d-9b3d-ace5b12371cb",
   "metadata": {},
   "outputs": [],
   "source": [
    "df[\"t1_champ1\"] = df[\"t1_champ1id\"].apply(lambda x: champ_data[\"data\"][str(x)][\"name\"])\n",
    "df[\"t1_champ2\"] = df[\"t1_champ2id\"].apply(lambda x: champ_data[\"data\"][str(x)][\"name\"])\n",
    "df[\"t1_champ3\"] = df[\"t1_champ3id\"].apply(lambda x: champ_data[\"data\"][str(x)][\"name\"])\n",
    "df[\"t1_champ4\"] = df[\"t1_champ4id\"].apply(lambda x: champ_data[\"data\"][str(x)][\"name\"])\n",
    "df[\"t1_champ5\"] = df[\"t1_champ5id\"].apply(lambda x: champ_data[\"data\"][str(x)][\"name\"])"
   ]
  },
  {
   "cell_type": "code",
   "execution_count": 10,
   "id": "05a3c97c-1364-43b0-96c5-f69ffe5dfa87",
   "metadata": {},
   "outputs": [],
   "source": [
    "df[\"t2_champ1\"] = df[\"t2_champ1id\"].apply(lambda x: champ_data[\"data\"][str(x)][\"name\"])\n",
    "df[\"t2_champ2\"] = df[\"t2_champ2id\"].apply(lambda x: champ_data[\"data\"][str(x)][\"name\"])\n",
    "df[\"t2_champ3\"] = df[\"t2_champ3id\"].apply(lambda x: champ_data[\"data\"][str(x)][\"name\"])\n",
    "df[\"t2_champ4\"] = df[\"t2_champ4id\"].apply(lambda x: champ_data[\"data\"][str(x)][\"name\"])\n",
    "df[\"t2_champ5\"] = df[\"t2_champ5id\"].apply(lambda x: champ_data[\"data\"][str(x)][\"name\"])"
   ]
  },
  {
   "cell_type": "code",
   "execution_count": 11,
   "id": "712c553d-9b8c-4ca2-8657-712a0be83458",
   "metadata": {},
   "outputs": [],
   "source": [
    "# df only includes champions that are picked\n",
    "# df = df[[\"t1_champ1\",\"t1_champ2\", \"t1_champ3\", \"t1_champ4\", \"t1_champ5\", \"t2_champ1\",\"t2_champ2\", \"t2_champ3\", \"t2_champ4\", \"t2_champ5\", \"winner\"]] \n",
    "# df includes champions that are picked and first blood\n",
    "# df = df[[\"t1_champ1\",\"t1_champ2\", \"t1_champ3\", \"t1_champ4\", \"t1_champ5\", \"t2_champ1\",\"t2_champ2\", \"t2_champ3\", \"t2_champ4\", \"t2_champ5\", \"firstBlood\", \"winner\"]] \n",
    "# df includes chapions, first blood, and first dragon\n",
    "# df = df[[\"t1_champ1\",\"t1_champ2\", \"t1_champ3\", \"t1_champ4\", \"t1_champ5\", \"t2_champ1\",\"t2_champ2\", \"t2_champ3\", \"t2_champ4\", \"t2_champ5\", \"firstBlood\", \"firstDragon\", \"winner\"]]\n",
    "# df includes first tower\n",
    "# df = df[[\"t1_champ1\",\"t1_champ2\", \"t1_champ3\", \"t1_champ4\", \"t1_champ5\", \"t2_champ1\",\"t2_champ2\", \"t2_champ3\", \"t2_champ4\", \"t2_champ5\", \"firstBlood\", \"firstDragon\", \"firstTower\", \"winner\"]]\n",
    "# df includes first baron\n",
    "df = df[[\"t1_champ1\",\"t1_champ2\", \"t1_champ3\", \"t1_champ4\", \"t1_champ5\", \"t2_champ1\",\"t2_champ2\", \"t2_champ3\", \"t2_champ4\", \"t2_champ5\", \"firstBlood\", \"firstDragon\", \"firstTower\", \"firstBaron\", \"winner\"]]"
   ]
  },
  {
   "cell_type": "code",
   "execution_count": 13,
   "id": "62c4649b-51f3-4d93-b2ae-0e92876d7dd3",
   "metadata": {},
   "outputs": [],
   "source": [
    "encodings1 = [pd.get_dummies(df[col], prefix = \"t1\") for col in [\"t1_champ1\",\"t1_champ2\", \"t1_champ3\", \"t1_champ4\", \"t1_champ5\"]]\n",
    "combined_df1 = sum(encodings1)\n",
    "\n",
    "encodings2 = [pd.get_dummies(df[col], prefix = \"t2\") for col in [\"t2_champ1\",\"t2_champ2\", \"t2_champ3\", \"t2_champ4\", \"t2_champ5\"]]\n",
    "combined_df2 = sum(encodings2)"
   ]
  },
  {
   "cell_type": "code",
   "execution_count": 15,
   "id": "561d660d-b265-40c8-8351-b5c427836bed",
   "metadata": {},
   "outputs": [],
   "source": [
    "df = df.join(combined_df1).join(combined_df2)"
   ]
  },
  {
   "cell_type": "code",
   "execution_count": 16,
   "id": "d2b67dce-91c6-4ac0-8ee3-edd0f3e903cd",
   "metadata": {},
   "outputs": [],
   "source": [
    "df = df.drop([\"t1_champ1\",\"t1_champ2\", \"t1_champ3\", \"t1_champ4\", \"t1_champ5\", \"t2_champ1\",\"t2_champ2\", \"t2_champ3\", \"t2_champ4\", \"t2_champ5\"], axis = 1)"
   ]
  },
  {
   "cell_type": "code",
   "execution_count": 18,
   "id": "3e6a2327-3748-473d-88d0-eb9be1673fd5",
   "metadata": {},
   "outputs": [],
   "source": [
    "# import tools\n",
    "from sklearn.model_selection import train_test_split\n",
    "from sklearn.ensemble import RandomForestClassifier"
   ]
  },
  {
   "cell_type": "code",
   "execution_count": 19,
   "id": "2067930c-b75f-42ce-96aa-8b9563108ae8",
   "metadata": {},
   "outputs": [
    {
     "data": {
      "text/plain": [
       "0.8077296562439309"
      ]
     },
     "execution_count": 19,
     "metadata": {},
     "output_type": "execute_result"
    }
   ],
   "source": [
    "# split into features X and labels y\n",
    "X = df.drop([\"winner\"], axis = 1) \n",
    "y = df[\"winner\"]\n",
    "\n",
    "# split into train and test sets\n",
    "X_train, X_test, y_train, y_test = train_test_split(X, y, test_size=0.2) \n",
    "\n",
    "# initiate and apply the model \n",
    "clf = RandomForestClassifier()\n",
    "clf.fit(X_train, y_train) \n",
    "\n",
    "# evaluate the result\n",
    "clf.score(X_test, y_test)"
   ]
  },
  {
   "cell_type": "code",
   "execution_count": 20,
   "id": "98969003-d3a9-4a30-b061-ebc9e4decffc",
   "metadata": {},
   "outputs": [],
   "source": [
    "importances = dict(zip(clf.feature_names_in_, clf.feature_importances_))\n",
    "sorted_importances = sorted(importances.items(), key = lambda x: x[1], reverse=True)"
   ]
  },
  {
   "cell_type": "code",
   "execution_count": null,
   "id": "c2eef804-3504-4662-ae1d-7978852b5134",
   "metadata": {},
   "outputs": [],
   "source": [
    "# calculate the champion's winrate\n",
    "champ_name = \"Skarner\"\n",
    "\n",
    "wins1 = len(df[(df[f't1_{champ_name}'] == 1) & (df['winner']  == 1)])\n",
    "wins2 = len(df[(df[f't2_{champ_name}'] == 1) & (df['winner']  == 2)])\n",
    "losses1 = len(df[(df[f't1_{champ_name}'] == 1) & (df['winner']  == 2)])\n",
    "losses2 = len(df[(df[f't2_{champ_name}'] == 1) & (df['winner']  == 1)])\n",
    "\n",
    "print((wins1 + wins2) / (wins1 + wins2 + losses1 + losses2))"
   ]
  }
 ],
 "metadata": {
  "kernelspec": {
   "display_name": "Python 3 (ipykernel)",
   "language": "python",
   "name": "python3"
  },
  "language_info": {
   "codemirror_mode": {
    "name": "ipython",
    "version": 3
   },
   "file_extension": ".py",
   "mimetype": "text/x-python",
   "name": "python",
   "nbconvert_exporter": "python",
   "pygments_lexer": "ipython3",
   "version": "3.10.14"
  }
 },
 "nbformat": 4,
 "nbformat_minor": 5
}
